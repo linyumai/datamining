{
 "cells": [
  {
   "cell_type": "markdown",
   "metadata": {
    "slideshow": {
     "slide_type": "-"
    }
   },
   "source": [
    "# Import Libraries"
   ]
  },
  {
   "cell_type": "code",
   "execution_count": 1,
   "metadata": {
    "slideshow": {
     "slide_type": "subslide"
    }
   },
   "outputs": [
    {
     "name": "stderr",
     "output_type": "stream",
     "text": [
      "/Users/louis/anaconda3/lib/python3.6/site-packages/sklearn/cross_validation.py:41: DeprecationWarning: This module was deprecated in version 0.18 in favor of the model_selection module into which all the refactored classes and functions are moved. Also note that the interface of the new CV iterators are different from that of this module. This module will be removed in 0.20.\n",
      "  \"This module will be removed in 0.20.\", DeprecationWarning)\n"
     ]
    }
   ],
   "source": [
    "import pandas as pd\n",
    "import numpy as np\n",
    "import matplotlib.pyplot as plt\n",
    "import seaborn as sns\n",
    "import xgboost as xgb\n",
    "import gc\n",
    "from sklearn.neighbors import KNeighborsClassifier\n",
    "from sklearn.preprocessing import LabelEncoder\n",
    "\n",
    "pd.options.display.max_columns = 100\n",
    "pd.options.display.max_rows = 100"
   ]
  },
  {
   "cell_type": "markdown",
   "metadata": {
    "slideshow": {
     "slide_type": "slide"
    }
   },
   "source": [
    "# Load Data"
   ]
  },
  {
   "cell_type": "code",
   "execution_count": 2,
   "metadata": {
    "collapsed": true
   },
   "outputs": [],
   "source": [
    "properties_file_path = 'properties_2017.csv' # <--- CHANGE THIS TO THE PATH OF YOUR 'properties_2017.csv'\n",
    "train_file_path = 'train.csv'"
   ]
  },
  {
   "cell_type": "code",
   "execution_count": 3,
   "metadata": {
    "collapsed": true,
    "scrolled": false,
    "slideshow": {
     "slide_type": "subslide"
    }
   },
   "outputs": [],
   "source": [
    "prop = pd.read_csv(properties_file_path, low_memory=False)\n",
    "prop = prop[prop.fips.notnull()]\n",
    "train = pd.read_csv(train_file_path, low_memory=False)\n",
    "original_prop = prop.copy()"
   ]
  },
  {
   "cell_type": "markdown",
   "metadata": {},
   "source": [
    "# Feature Importance"
   ]
  },
  {
   "cell_type": "code",
   "execution_count": null,
   "metadata": {
    "collapsed": true
   },
   "outputs": [],
   "source": [
    "prop_columns = pd.DataFrame(columns=['Column Name', 'Data Type', 'NaN Count', 'Unique Values'])\n",
    "for i,c in enumerate(prop.columns):\n",
    "    prop_columns.loc[i,'Column Name'] = c\n",
    "    prop_columns.loc[i,'Data Type'] = prop[c].dtype\n",
    "    prop_columns.loc[i,'NaN Count'] = prop[c].isnull().sum()    \n",
    "    prop_columns.loc[i,'Unique Values'] = len(prop[c].unique())\n",
    "\n",
    "prop_columns"
   ]
  },
  {
   "cell_type": "code",
   "execution_count": null,
   "metadata": {
    "collapsed": true
   },
   "outputs": [],
   "source": [
    "merged = train.merge(prop,how='left',on='parcelid')\n",
    "y_train = merged['logerror'].values\n",
    "merged = merged.drop(['parcelid', 'logerror', 'transactiondate', 'subdate', 'propertyzoningdesc', 'propertycountylandusecode'], axis=1)\n",
    "merged.fillna(0, inplace=True)\n",
    "\n",
    "for c in merged.columns:\n",
    "    if merged[c].dtype == 'object':\n",
    "        lbl = LabelEncoder()\n",
    "        lbl.fit(list(merged[c].values))\n",
    "        merged[c] = lbl.transform(list(merged[c].values))\n",
    "\n",
    "xgb_params = {\n",
    "    'eta': 0.05,\n",
    "    'max_depth': 8,\n",
    "    'subsample': 0.7,\n",
    "    'colsample_bytree': 0.7,\n",
    "    'objective': 'reg:linear',\n",
    "    'silent': 1,\n",
    "    'seed' : 0\n",
    "}\n",
    "\n",
    "dtrain = xgb.DMatrix(merged, y_train, feature_names=merged.columns.values)\n",
    "model = xgb.train(dict(xgb_params, silent=0), dtrain, num_boost_round=150)\n",
    "\n",
    "# plot the important features #\n",
    "fig, ax = plt.subplots(figsize=(12,18))\n",
    "xgb.plot_importance(model, height=0.8, ax=ax)\n",
    "plt.show()"
   ]
  },
  {
   "cell_type": "markdown",
   "metadata": {},
   "source": [
    "# Null Data Exploration"
   ]
  },
  {
   "cell_type": "code",
   "execution_count": null,
   "metadata": {
    "collapsed": true
   },
   "outputs": [],
   "source": [
    "null_df = prop.isnull().sum().reset_index()\n",
    "null_df.columns = ['feature_name', 'missing_count']\n",
    "null_df.sort_values(by='missing_count', inplace=True)"
   ]
  },
  {
   "cell_type": "code",
   "execution_count": null,
   "metadata": {
    "collapsed": true,
    "scrolled": false
   },
   "outputs": [],
   "source": [
    "ind = np.arange(null_df.shape[0])\n",
    "fig, ax = plt.subplots(figsize=(10, 20))\n",
    "rects = ax.barh(ind, null_df.missing_count.values, color='blue')\n",
    "ax.set_yticks(ind)\n",
    "ax.set_yticklabels(null_df.feature_name.values, rotation='horizontal')\n",
    "ax.set_xlabel('Count of null values')\n",
    "ax.set_title('Number of null values in each column')\n",
    "plt.show()\n",
    "plt.gcf().clear()"
   ]
  },
  {
   "cell_type": "code",
   "execution_count": null,
   "metadata": {
    "collapsed": true,
    "scrolled": true
   },
   "outputs": [],
   "source": [
    "null_df['proportion'] = null_df.loc[:,'missing_count'] / len(prop)\n",
    "null_values_proportion = null_df.sort_values(by='proportion', ascending=False)\n",
    "print('The following features have more than 97% of their data missing')\n",
    "print(null_values_proportion[null_values_proportion['proportion'] > 0.97])\n",
    "drop_list = null_values_proportion[null_values_proportion['proportion'] > 0.97].loc[:,'feature_name'].values\n",
    "prop.drop(drop_list, 1, inplace=True)"
   ]
  },
  {
   "cell_type": "code",
   "execution_count": null,
   "metadata": {
    "collapsed": true
   },
   "outputs": [],
   "source": [
    "del null_values_proportion; del drop_list; del null_df; gc.collect()"
   ]
  },
  {
   "cell_type": "markdown",
   "metadata": {},
   "source": [
    "# Variable Correlation"
   ]
  },
  {
   "cell_type": "code",
   "execution_count": null,
   "metadata": {
    "collapsed": true
   },
   "outputs": [],
   "source": [
    "nominal_cols = ['airconditioningtypeid','architecturalstyletypeid','buildingqualitytypeid','buildingclasstypeid','decktypeid','fips','hashottuborspa','heatingorsystemtypeid','pooltypeid10','pooltypeid2','pooltypeid7','propertycountylandusecode','propertylandusetypeid','propertyzoningdesc','rawcensustractandblock','regionidcity','regionidcounty','regionidneighborhood','regionidzip','storytypeid','typeconstructiontypeid','yearbuilt','taxdelinquencyflag']\n",
    "numeric_cols = [col for col in original_prop.columns if col not in nominal_cols]"
   ]
  },
  {
   "cell_type": "code",
   "execution_count": null,
   "metadata": {
    "collapsed": true
   },
   "outputs": [],
   "source": [
    "plt.figure(figsize=(12,8))\n",
    "sns.heatmap(data=original_prop[numeric_cols].corr())\n",
    "plt.show()\n",
    "plt.gcf().clear()"
   ]
  },
  {
   "cell_type": "code",
   "execution_count": null,
   "metadata": {
    "collapsed": true
   },
   "outputs": [],
   "source": [
    "del nominal_cols; del original_prop; del numeric_cols; gc.collect()"
   ]
  },
  {
   "cell_type": "code",
   "execution_count": null,
   "metadata": {
    "collapsed": true
   },
   "outputs": [],
   "source": [
    "# CORRELATION NOTE\n",
    "# The following are strongly correlated: 'calculatedfinishedsquarefeet' 'finishedsquarefeet12' 'finishedsquarefeet13' 'finishedsquarefeet15' 'finishedsquarefeet6'\n",
    "# According to the descriptions they are similiar pieces of information, hence we pick the one with the least missing values and drop the rest"
   ]
  },
  {
   "cell_type": "code",
   "execution_count": 4,
   "metadata": {},
   "outputs": [
    {
     "name": "stdout",
     "output_type": "stream",
     "text": [
      "['bathroomcnt', 'bedroomcnt', 'calculatedbathnbr', 'calculatedfinishedsquarefeet', 'finishedsquarefeet12', 'fullbathcnt', 'lotsizesquarefeet', 'propertycountylandusecode', 'regionidcity', 'regionidzip', 'roomcnt', 'yearbuilt', 'assessmentyear', 'censustractandblock']\n",
      "Filling bathroomcnt with KNN\n",
      "not str\n",
      "fitting\n",
      "predicting\n",
      "Done\n",
      "Filling bedroomcnt with KNN\n",
      "not str\n",
      "fitting\n",
      "predicting\n",
      "Done\n",
      "Filling calculatedbathnbr with KNN\n",
      "not str\n",
      "fitting\n",
      "predicting\n",
      "Done\n",
      "Filling calculatedfinishedsquarefeet with KNN\n",
      "not str\n",
      "fitting\n",
      "predicting\n",
      "Done\n",
      "Filling finishedsquarefeet12 with KNN\n",
      "not str\n",
      "fitting\n",
      "predicting\n",
      "Done\n",
      "Filling fullbathcnt with KNN\n",
      "not str\n",
      "fitting\n",
      "predicting\n",
      "Done\n",
      "Filling lotsizesquarefeet with KNN\n",
      "not str\n",
      "fitting\n",
      "predicting\n",
      "Done\n",
      "Filling propertycountylandusecode with KNN\n",
      "fitting\n",
      "predicting\n",
      "Done\n",
      "Filling regionidcity with KNN\n",
      "not str\n",
      "fitting\n",
      "predicting\n",
      "Done\n",
      "Filling regionidzip with KNN\n",
      "not str\n",
      "fitting\n",
      "predicting\n",
      "Done\n",
      "Filling roomcnt with KNN\n",
      "not str\n",
      "fitting\n",
      "predicting\n",
      "Done\n",
      "Filling yearbuilt with KNN\n",
      "not str\n",
      "fitting\n",
      "predicting\n",
      "Done\n",
      "Filling assessmentyear with KNN\n",
      "not str\n",
      "fitting\n",
      "predicting\n",
      "Done\n",
      "Filling censustractandblock with KNN\n",
      "not str\n",
      "fitting\n",
      "predicting\n",
      "Done\n"
     ]
    }
   ],
   "source": [
    "to_exclude = {\n",
    "    'propertyzoningdesc'\n",
    "}\n",
    "\n",
    "# https://www.kaggle.com/c/zillow-prize-1/discussion/40408 - Should not use tax values for predictions\n",
    "to_exclude = to_exclude | {col for col in prop.columns.values if 'tax' in col}\n",
    "\n",
    "# getting rid of features with more than 98% missing values\n",
    "for col in prop.columns:\n",
    "    num_missing = prop[col].isnull().sum()\n",
    "    if num_missing == 0:\n",
    "        continue\n",
    "    missing_frac = num_missing / float(prop.shape[0])\n",
    "    if missing_frac > 0.98:\n",
    "        to_exclude.add(col)\n",
    "        \n",
    "for col in prop.columns:\n",
    "    num_uniques = len(prop[col].unique())\n",
    "    if prop[col].isnull().sum() != 0:\n",
    "        num_uniques -= 1\n",
    "    if num_uniques == 1:\n",
    "        to_exclude.add(col)\n",
    "\n",
    "cols = [col for col in prop.columns if col not in to_exclude]\n",
    "prop = prop.loc[:,cols]\n",
    "null_df = prop.isnull().sum().reset_index()\n",
    "null_df.columns = ['feature','null_values']\n",
    "\n",
    "knn_threshold = 1000000\n",
    "knn_list = []\n",
    "for index, row in null_df.iterrows():\n",
    "    if row['null_values'] < knn_threshold and row['null_values'] > 0:\n",
    "        knn_list.append(row['feature'])\n",
    "print(knn_list)\n",
    "\n",
    "def fill_knn(df, base, target):\n",
    "    miss = df[target].isnull()\n",
    "    notmiss = ~miss\n",
    "    X = df.loc[notmiss, base].values\n",
    "    Y = df.loc[notmiss, target].values\n",
    "    if Y.dtype != object:\n",
    "        print('not str')\n",
    "        Y = df.loc[notmiss, target].values.astype(int)\n",
    "    classifier = KNeighborsClassifier()\n",
    "    print('fitting')\n",
    "    classifier.fit(X, Y)\n",
    "    print('predicting')\n",
    "    predicted = classifier.predict(df.loc[miss, base])\n",
    "    df.loc[miss, target] = predicted\n",
    "\n",
    "for item in knn_list:\n",
    "    print('Filling', item, 'with KNN')\n",
    "    fill_knn(prop, ['latitude','longitude'], item)\n",
    "    print('Done')"
   ]
  },
  {
   "cell_type": "code",
   "execution_count": 5,
   "metadata": {
    "collapsed": true
   },
   "outputs": [],
   "source": [
    "prop.fillna(-999, inplace=True)"
   ]
  },
  {
   "cell_type": "code",
   "execution_count": 6,
   "metadata": {},
   "outputs": [
    {
     "data": {
      "text/plain": [
       "parcelid                        0\n",
       "airconditioningtypeid           0\n",
       "bathroomcnt                     0\n",
       "bedroomcnt                      0\n",
       "buildingqualitytypeid           0\n",
       "calculatedbathnbr               0\n",
       "finishedfloor1squarefeet        0\n",
       "calculatedfinishedsquarefeet    0\n",
       "finishedsquarefeet12            0\n",
       "finishedsquarefeet15            0\n",
       "finishedsquarefeet50            0\n",
       "fips                            0\n",
       "fireplacecnt                    0\n",
       "fullbathcnt                     0\n",
       "garagecarcnt                    0\n",
       "garagetotalsqft                 0\n",
       "heatingorsystemtypeid           0\n",
       "latitude                        0\n",
       "longitude                       0\n",
       "lotsizesquarefeet               0\n",
       "propertycountylandusecode       0\n",
       "propertylandusetypeid           0\n",
       "rawcensustractandblock          0\n",
       "regionidcity                    0\n",
       "regionidcounty                  0\n",
       "regionidneighborhood            0\n",
       "regionidzip                     0\n",
       "roomcnt                         0\n",
       "threequarterbathnbr             0\n",
       "unitcnt                         0\n",
       "yardbuildingsqft17              0\n",
       "yearbuilt                       0\n",
       "numberofstories                 0\n",
       "assessmentyear                  0\n",
       "censustractandblock             0\n",
       "dtype: int64"
      ]
     },
     "execution_count": 6,
     "metadata": {},
     "output_type": "execute_result"
    }
   ],
   "source": [
    "prop.isnull().sum()"
   ]
  },
  {
   "cell_type": "code",
   "execution_count": 9,
   "metadata": {
    "collapsed": true
   },
   "outputs": [],
   "source": [
    "prop.to_csv('final_prop_cat.csv', index=False)"
   ]
  }
 ],
 "metadata": {
  "anaconda-cloud": {},
  "kernelspec": {
   "display_name": "Python 3",
   "language": "python",
   "name": "python3"
  },
  "language_info": {
   "codemirror_mode": {
    "name": "ipython",
    "version": 3
   },
   "file_extension": ".py",
   "mimetype": "text/x-python",
   "name": "python",
   "nbconvert_exporter": "python",
   "pygments_lexer": "ipython3",
   "version": "3.6.2"
  }
 },
 "nbformat": 4,
 "nbformat_minor": 1
}
