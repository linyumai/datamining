{
 "cells": [
  {
   "cell_type": "markdown",
   "metadata": {},
   "source": [
    "# Import Libaries"
   ]
  },
  {
   "cell_type": "code",
   "execution_count": 1,
   "metadata": {},
   "outputs": [
    {
     "name": "stderr",
     "output_type": "stream",
     "text": [
      "/Users/louis/anaconda3/lib/python3.6/site-packages/sklearn/cross_validation.py:41: DeprecationWarning: This module was deprecated in version 0.18 in favor of the model_selection module into which all the refactored classes and functions are moved. Also note that the interface of the new CV iterators are different from that of this module. This module will be removed in 0.20.\n",
      "  \"This module will be removed in 0.20.\", DeprecationWarning)\n",
      "/Users/louis/anaconda3/lib/python3.6/site-packages/sklearn/grid_search.py:42: DeprecationWarning: This module was deprecated in version 0.18 in favor of the model_selection module into which all the refactored classes and functions are moved. This module will be removed in 0.20.\n",
      "  DeprecationWarning)\n"
     ]
    }
   ],
   "source": [
    "import pandas as pd\n",
    "import numpy as np\n",
    "import matplotlib.pyplot as plt\n",
    "from sklearn.ensemble import RandomForestRegressor\n",
    "from sklearn.model_selection import train_test_split, cross_val_score\n",
    "from sklearn.metrics import mean_squared_error\n",
    "\n",
    "pd.options.display.max_columns = 100\n",
    "pd.options.display.max_rows = 100"
   ]
  },
  {
   "cell_type": "markdown",
   "metadata": {},
   "source": [
    "# Load Data"
   ]
  },
  {
   "cell_type": "code",
   "execution_count": 2,
   "metadata": {
    "collapsed": true
   },
   "outputs": [],
   "source": [
    "train_path = 'train.csv'\n",
    "test_path = 'test.csv'\n",
    "submission_path = 'new_submission.csv'\n",
    "prop_path = 'final_prop_encoded_onehot.csv'"
   ]
  },
  {
   "cell_type": "code",
   "execution_count": 3,
   "metadata": {
    "collapsed": true
   },
   "outputs": [],
   "source": [
    "train = pd.read_csv(train_path)\n",
    "test = pd.read_csv(test_path)\n",
    "submission = pd.read_csv(submission_path)\n",
    "prop = pd.read_csv(prop_path)"
   ]
  },
  {
   "cell_type": "markdown",
   "metadata": {},
   "source": [
    "# Constants"
   ]
  },
  {
   "cell_type": "code",
   "execution_count": 4,
   "metadata": {
    "collapsed": true
   },
   "outputs": [],
   "source": [
    "parcelid = 'parcelid'\n",
    "logerror = 'logerror'\n",
    "transactiondate = 'transactiondate'\n",
    "subdate = 'subdate'"
   ]
  },
  {
   "cell_type": "markdown",
   "metadata": {},
   "source": [
    "# Data Fitting"
   ]
  },
  {
   "cell_type": "code",
   "execution_count": 5,
   "metadata": {
    "collapsed": true
   },
   "outputs": [],
   "source": [
    "train = train.merge(prop,how='left',on=parcelid)\n",
    "train = train[train.latitude.notnull()]"
   ]
  },
  {
   "cell_type": "code",
   "execution_count": 7,
   "metadata": {},
   "outputs": [
    {
     "name": "stdout",
     "output_type": "stream",
     "text": [
      "x train shape:  (113009, 70)\n",
      "y train shape:  (113009,)\n"
     ]
    }
   ],
   "source": [
    "x_train = train.drop([parcelid,logerror,transactiondate,subdate],1)\n",
    "y_train = train.logerror.values.astype(np.float32)\n",
    "print('x train shape: ',x_train.shape)\n",
    "print('y train shape: ',y_train.shape)"
   ]
  },
  {
   "cell_type": "code",
   "execution_count": 8,
   "metadata": {
    "scrolled": true
   },
   "outputs": [
    {
     "name": "stdout",
     "output_type": "stream",
     "text": [
      "X_train:  (75716, 70)\n",
      "X_test:  (37293, 70)\n",
      "y_train:  (75716,)\n",
      "y_test:  (37293,)\n",
      "y_mean:  0.0133953\n"
     ]
    }
   ],
   "source": [
    "X_train,X_test,y_train,y_test = train_test_split(x_train,y_train,test_size=0.33,random_state=42)\n",
    "y_mean = np.mean(y_train)\n",
    "print('X_train: ',X_train.shape)\n",
    "print('X_test: ',X_test.shape)\n",
    "print('y_train: ',y_train.shape)\n",
    "print('y_test: ',y_test.shape)\n",
    "print('y_mean: ',y_mean)"
   ]
  },
  {
   "cell_type": "markdown",
   "metadata": {},
   "source": [
    "# Training Model"
   ]
  },
  {
   "cell_type": "code",
   "execution_count": 9,
   "metadata": {
    "collapsed": true
   },
   "outputs": [],
   "source": [
    "n_estimators = [80, 100, 500]\n",
    "max_depth = [5, 9, 15]"
   ]
  },
  {
   "cell_type": "code",
   "execution_count": null,
   "metadata": {
    "scrolled": true
   },
   "outputs": [],
   "source": [
    "for est in n_estimators:\n",
    "    print('n_estimator:', est)\n",
    "    for dep in max_depth:\n",
    "        print('max_depth:', dep)\n",
    "        regressor = RandomForestRegressor(max_depth=dep, n_estimators=est)\n",
    "        regressor.fit(X_train,y_train)\n",
    "        y_pred = regressor.predict(X_test)\n",
    "        accuracies = cross_val_score(estimator=regressor,X=X_train,y=y_train,cv=10,n_jobs=-1)\n",
    "        print('Accuracies:', accuracies)\n",
    "        print('MSE:', mean_squared_error(y_test, y_pred))"
   ]
  },
  {
   "cell_type": "markdown",
   "metadata": {},
   "source": [
    "# Predicting Results"
   ]
  },
  {
   "cell_type": "markdown",
   "metadata": {},
   "source": [
    "Select the max_depth and n_estimators with the result that provides the minimum "
   ]
  },
  {
   "cell_type": "code",
   "execution_count": 11,
   "metadata": {
    "scrolled": true
   },
   "outputs": [
    {
     "data": {
      "text/plain": [
       "RandomForestRegressor(bootstrap=True, criterion='mse', max_depth=15,\n",
       "           max_features='auto', max_leaf_nodes=None,\n",
       "           min_impurity_decrease=0.0, min_impurity_split=None,\n",
       "           min_samples_leaf=1, min_samples_split=2,\n",
       "           min_weight_fraction_leaf=0.0, n_estimators=80, n_jobs=1,\n",
       "           oob_score=False, random_state=None, verbose=0, warm_start=False)"
      ]
     },
     "execution_count": 11,
     "metadata": {},
     "output_type": "execute_result"
    }
   ],
   "source": [
    "regressor = RandomForestRegressor(max_depth=15, n_estimators=80)\n",
    "regressor.fit(X_train,y_train)\n",
    "result = regressor.predict(prop.iloc[:,1:])"
   ]
  },
  {
   "cell_type": "code",
   "execution_count": 13,
   "metadata": {
    "collapsed": true
   },
   "outputs": [],
   "source": [
    "prop['results'] = result\n",
    "output = prop[['parcelid','results']]\n",
    "submission = submission.iloc[:,1:]\n",
    "submission = submission.merge(output, how='left', on='parcelid')\n",
    "\n",
    "for c in submission.columns.values:\n",
    "    if c != 'parcelid':\n",
    "        submission[c] = submission['results']\n",
    "        \n",
    "submission.drop('results',1,inplace=True)\n",
    "submission.fillna(0,inplace=True)"
   ]
  },
  {
   "cell_type": "markdown",
   "metadata": {},
   "source": [
    "# Calculating MAE Score"
   ]
  },
  {
   "cell_type": "code",
   "execution_count": 19,
   "metadata": {},
   "outputs": [
    {
     "name": "stdout",
     "output_type": "stream",
     "text": [
      "Processing  54849 rows\n",
      "Completed:  10000 rows\n",
      "Completed:  20000 rows\n",
      "Completed:  30000 rows\n",
      "Completed:  40000 rows\n",
      "Completed:  50000 rows\n",
      "===Process Completed===\n",
      "\n",
      " Final score: 0.07027695395379888\n"
     ]
    }
   ],
   "source": [
    "from math import fabs as absolute\n",
    "\n",
    "sub = submission\n",
    "test_size = len(test)\n",
    "\n",
    "total_ae = 0.0\n",
    "print(\"Processing \", test_size, \"rows\")\n",
    "for index,row in test.iterrows():\n",
    "    r = sub.loc[sub['parcelid'] == row[0]]\n",
    "    \n",
    "    pred_error = r[str(row[3])]\n",
    "    total_ae += absolute(pred_error - row[1])\n",
    "    if index % 10000 == 0 and index !=0:\n",
    "        print(\"Completed: \", index, \"rows\")\n",
    "        \n",
    "print(\"===Process Completed===\")\n",
    "print(\"\\n Final score:\", total_ae/test_size)"
   ]
  }
 ],
 "metadata": {
  "kernelspec": {
   "display_name": "Python 3",
   "language": "python",
   "name": "python3"
  },
  "language_info": {
   "codemirror_mode": {
    "name": "ipython",
    "version": 3
   },
   "file_extension": ".py",
   "mimetype": "text/x-python",
   "name": "python",
   "nbconvert_exporter": "python",
   "pygments_lexer": "ipython3",
   "version": "3.6.2"
  }
 },
 "nbformat": 4,
 "nbformat_minor": 2
}
