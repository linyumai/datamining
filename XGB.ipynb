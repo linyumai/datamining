{
 "cells": [
  {
   "cell_type": "markdown",
   "metadata": {},
   "source": [
    "# Import Libraries"
   ]
  },
  {
   "cell_type": "code",
   "execution_count": 20,
   "metadata": {},
   "outputs": [],
   "source": [
    "import numpy as np\n",
    "import pandas as pd\n",
    "import xgboost as xgb\n",
    "import gc\n",
    "from sklearn.model_selection import train_test_split, cross_val_score\n",
    "from sklearn.metrics import mean_squared_error"
   ]
  },
  {
   "cell_type": "markdown",
   "metadata": {},
   "source": [
    "# Load Data"
   ]
  },
  {
   "cell_type": "code",
   "execution_count": 21,
   "metadata": {
    "collapsed": true
   },
   "outputs": [],
   "source": [
    "train = pd.read_csv('train.csv')\n",
    "test = pd.read_csv('test.csv')\n",
    "sample = pd.read_csv('new_submission.csv')\n",
    "prop = pd.read_csv('final_prop_encoded_onehot.csv') # replace with cleaned prop\n",
    "train = train.merge(prop, how=\"left\", on=\"parcelid\")"
   ]
  },
  {
   "cell_type": "markdown",
   "metadata": {},
   "source": [
    "# Data Fitting"
   ]
  },
  {
   "cell_type": "code",
   "execution_count": 22,
   "metadata": {
    "scrolled": true
   },
   "outputs": [
    {
     "name": "stdout",
     "output_type": "stream",
     "text": [
      "x train shape:  (113039, 70)\n",
      "y train shape:  (113039,)\n"
     ]
    }
   ],
   "source": [
    "x_train = train.drop(['parcelid','logerror','transactiondate','subdate'],1)\n",
    "y_train = train.logerror.values.astype(np.float32)\n",
    "print('x train shape: ', x_train.shape)\n",
    "print('y train shape: ', y_train.shape)"
   ]
  },
  {
   "cell_type": "code",
   "execution_count": 23,
   "metadata": {
    "collapsed": true
   },
   "outputs": [],
   "source": [
    "test_size = 0.33\n",
    "random_state = 42"
   ]
  },
  {
   "cell_type": "code",
   "execution_count": 24,
   "metadata": {
    "scrolled": false
   },
   "outputs": [
    {
     "name": "stdout",
     "output_type": "stream",
     "text": [
      "X_train:  (75736, 70)\n",
      "X_test:  (37303, 70)\n",
      "y_train:  (75736,)\n",
      "y_test:  (37303,)\n"
     ]
    }
   ],
   "source": [
    "X_train,X_test,y_train,y_test = train_test_split(x_train,y_train,test_size=test_size,random_state=random_state)\n",
    "y_mean = np.mean(y_train)\n",
    "print('X_train: ', X_train.shape)\n",
    "print('X_test: ', X_test.shape)\n",
    "print('y_train: ', y_train.shape)\n",
    "print('y_test: ', y_test.shape)"
   ]
  },
  {
   "cell_type": "markdown",
   "metadata": {},
   "source": [
    "# Training Model\n",
    "\n",
    "Note: Test metrics to get model working"
   ]
  },
  {
   "cell_type": "code",
   "execution_count": 25,
   "metadata": {
    "collapsed": true
   },
   "outputs": [],
   "source": [
    "eta = [0.01, 0.1, 0.3]\n",
    "max_depth = [3, 6, 10]"
   ]
  },
  {
   "cell_type": "code",
   "execution_count": 28,
   "metadata": {},
   "outputs": [
    {
     "name": "stdout",
     "output_type": "stream",
     "text": [
      "eta: 0.01 max_depth: 3\n",
      "0.0254392\n",
      "eta: 0.01 max_depth: 6\n",
      "0.0254883\n",
      "eta: 0.01 max_depth: 10\n",
      "0.0255633\n",
      "eta: 0.1 max_depth: 3\n",
      "0.0255063\n",
      "eta: 0.1 max_depth: 6\n",
      "0.0258815\n",
      "eta: 0.1 max_depth: 10\n",
      "0.0266529\n",
      "eta: 0.3 max_depth: 3\n",
      "0.0255839\n",
      "eta: 0.3 max_depth: 6\n",
      "0.02748\n",
      "eta: 0.3 max_depth: 10\n",
      "0.0290354\n"
     ]
    }
   ],
   "source": [
    "for e in eta:\n",
    "    for md in max_depth:\n",
    "        print('eta:',e,'max_depth:',md)\n",
    "        xgb_params = {\n",
    "            'eta': e,\n",
    "            'max_depth': int(md),\n",
    "            'objective': 'reg:linear',\n",
    "            'eval_metric': 'mae',\n",
    "            'base_score': y_mean\n",
    "        }\n",
    "        dtrain = xgb.DMatrix(X_train, y_train)\n",
    "        dtest = xgb.DMatrix(X_test)\n",
    "\n",
    "        num_boost_rounds = 250\n",
    "\n",
    "        model = xgb.train(\n",
    "            dict(xgb_params, silent=1), \n",
    "            dtrain, \n",
    "            num_boost_round=num_boost_rounds\n",
    "        )\n",
    "        y_pred = model.predict(dtest)\n",
    "        print(mean_squared_error(y_pred, y_test))"
   ]
  },
  {
   "cell_type": "markdown",
   "metadata": {},
   "source": [
    "# Predicting Results"
   ]
  },
  {
   "cell_type": "code",
   "execution_count": 29,
   "metadata": {
    "collapsed": true
   },
   "outputs": [],
   "source": [
    "xgb_params = {\n",
    "    'eta': 0.01,\n",
    "    'max_depth': int(3),\n",
    "    'subsample': 0.80,\n",
    "    'objective': 'reg:linear',\n",
    "    'eval_metric': 'mae',\n",
    "    'lambda': 0.8,   \n",
    "    'alpha': 0.4, \n",
    "    'base_score': y_mean,\n",
    "    'silent': 1\n",
    "}\n",
    "dtrain = xgb.DMatrix(X_train, y_train)\n",
    "dtest = xgb.DMatrix(prop.set_index('parcelid'))\n",
    "\n",
    "num_boost_rounds = 250\n",
    "\n",
    "model = xgb.train(\n",
    "    dict(xgb_params, silent=1), \n",
    "    dtrain, \n",
    "    num_boost_round=num_boost_rounds\n",
    ")\n",
    "y_pred = model.predict(dtest)"
   ]
  },
  {
   "cell_type": "code",
   "execution_count": 30,
   "metadata": {},
   "outputs": [],
   "source": [
    "prop['logerror'] = y_pred\n",
    "output = sample.drop('Unnamed: 0',1).merge(prop.loc[:,['parcelid','logerror']], how='left', on='parcelid')\n",
    "\n",
    "for c in output.columns[output.columns != 'parcelid']:\n",
    "    output[c] = output['logerror']  \n",
    "\n",
    "output = output.iloc[:,:-1]\n",
    "output.fillna(0, inplace=True)"
   ]
  },
  {
   "cell_type": "markdown",
   "metadata": {},
   "source": [
    "# Calculating MAE Score"
   ]
  },
  {
   "cell_type": "code",
   "execution_count": 31,
   "metadata": {
    "scrolled": true
   },
   "outputs": [
    {
     "name": "stdout",
     "output_type": "stream",
     "text": [
      "Processing  54849 rows\n",
      "Completed:  10000 rows\n",
      "Completed:  20000 rows\n",
      "Completed:  30000 rows\n",
      "Completed:  40000 rows\n",
      "Completed:  50000 rows\n",
      "===Process Completed===\n",
      "\n",
      " Final score: 0.0693158769551591\n"
     ]
    }
   ],
   "source": [
    "from math import fabs as absolute\n",
    "\n",
    "sub = output\n",
    "test_size = len(test)\n",
    "\n",
    "total_ae = 0.0\n",
    "print(\"Processing \", test_size, \"rows\")\n",
    "for index,row in test.iterrows():\n",
    "    r = sub.loc[sub['parcelid'] == row[0]]\n",
    "    \n",
    "    pred_error = r[str(row[3])]\n",
    "    total_ae += absolute(pred_error - row[1])\n",
    "    if index % 10000 == 0 and index !=0:\n",
    "        print(\"Completed: \", index, \"rows\")\n",
    "        \n",
    "print(\"===Process Completed===\")\n",
    "print(\"\\n Final score:\", total_ae/test_size)"
   ]
  }
 ],
 "metadata": {
  "kernelspec": {
   "display_name": "Python 3",
   "language": "python",
   "name": "python3"
  },
  "language_info": {
   "codemirror_mode": {
    "name": "ipython",
    "version": 3
   },
   "file_extension": ".py",
   "mimetype": "text/x-python",
   "name": "python",
   "nbconvert_exporter": "python",
   "pygments_lexer": "ipython3",
   "version": "3.6.2"
  }
 },
 "nbformat": 4,
 "nbformat_minor": 2
}
