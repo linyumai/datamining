{
 "cells": [
  {
   "cell_type": "code",
   "execution_count": 1,
   "metadata": {
    "collapsed": true
   },
   "outputs": [],
   "source": [
    "# Note that the column label of the submission file is \"ParcelID\" or \"parcelid\""
   ]
  },
  {
   "cell_type": "code",
   "execution_count": null,
   "metadata": {},
   "outputs": [],
   "source": []
  },
  {
   "cell_type": "code",
   "execution_count": 1,
   "metadata": {
    "collapsed": true
   },
   "outputs": [],
   "source": [
    "import pandas as pd\n",
    "from math import fabs as absolute\n",
    "# This is the only block of codes to change\n",
    "# test.csv path\n",
    "test_path = \"C:\\\\Users\\\\Lin\\\\Desktop\\\\SMU\\\\Y3S1\\\\DM G1\\\\Project\\\\Codes\\\\data\\\\test.csv\"\n",
    "# submission path\n",
    "submission_path = \"C:\\\\Users\\\\Lin\\\\Desktop\\\\SMU\\\\Y3S1\\\\DM G1\\\\Project\\\\Codes\\\\lgb_bench.csv\""
   ]
  },
  {
   "cell_type": "code",
   "execution_count": 2,
   "metadata": {
    "collapsed": true
   },
   "outputs": [],
   "source": [
    "test = pd.read_csv(test_path, low_memory=False)\n",
    "sub = pd.read_csv(submission_path, low_memory=False)\n",
    "test_size = len(test)"
   ]
  },
  {
   "cell_type": "code",
   "execution_count": 4,
   "metadata": {},
   "outputs": [
    {
     "name": "stdout",
     "output_type": "stream",
     "text": [
      "Processing  54849 rows\n",
      "Completed:  10000 rows\n",
      "Completed:  20000 rows\n",
      "Completed:  30000 rows\n",
      "Completed:  40000 rows\n",
      "Completed:  50000 rows\n",
      "===Process Completed===\n",
      "\n",
      " Final score: 0.06922539937234885\n"
     ]
    }
   ],
   "source": [
    "total_ae = 0.0\n",
    "print(\"Processing \", test_size, \"rows\")\n",
    "for index,row in test.iterrows():\n",
    "    r = sub.loc[sub['parcelid'] == row[0]]\n",
    "    \n",
    "    pred_error = r[str(row[3])]\n",
    "    total_ae += absolute(pred_error - row[1])\n",
    "    \n",
    "    if index % 10000 == 0 and index !=0:\n",
    "        print(\"Completed: \", index, \"rows\")\n",
    "        \n",
    "print(\"===Process Completed===\")\n",
    "print(\"\\n Final score:\", total_ae/test_size)"
   ]
  },
  {
   "cell_type": "code",
   "execution_count": 24,
   "metadata": {},
   "outputs": [
    {
     "ename": "NameError",
     "evalue": "name 'test' is not defined",
     "output_type": "error",
     "traceback": [
      "\u001b[1;31m---------------------------------------------------------------------------\u001b[0m",
      "\u001b[1;31mNameError\u001b[0m                                 Traceback (most recent call last)",
      "\u001b[1;32m<ipython-input-24-5d9408962ca5>\u001b[0m in \u001b[0;36m<module>\u001b[1;34m()\u001b[0m\n\u001b[0;32m      1\u001b[0m \u001b[1;32mimport\u001b[0m \u001b[0mgc\u001b[0m\u001b[1;33m\u001b[0m\u001b[0m\n\u001b[1;32m----> 2\u001b[1;33m \u001b[1;32mdel\u001b[0m \u001b[0mtest\u001b[0m\u001b[1;33m\u001b[0m\u001b[0m\n\u001b[0m\u001b[0;32m      3\u001b[0m \u001b[1;32mdel\u001b[0m \u001b[0msub\u001b[0m\u001b[1;33m\u001b[0m\u001b[0m\n\u001b[0;32m      4\u001b[0m \u001b[1;33m\u001b[0m\u001b[0m\n\u001b[0;32m      5\u001b[0m \u001b[0mgc\u001b[0m\u001b[1;33m.\u001b[0m\u001b[0mcollect\u001b[0m\u001b[1;33m(\u001b[0m\u001b[1;33m)\u001b[0m\u001b[1;33m\u001b[0m\u001b[0m\n",
      "\u001b[1;31mNameError\u001b[0m: name 'test' is not defined"
     ]
    }
   ],
   "source": [
    "import gc\n",
    "del test\n",
    "del sub\n",
    "\n",
    "gc.collect()"
   ]
  },
  {
   "cell_type": "code",
   "execution_count": 26,
   "metadata": {},
   "outputs": [
    {
     "data": {
      "text/html": [
       "<div>\n",
       "<style>\n",
       "    .dataframe thead tr:only-child th {\n",
       "        text-align: right;\n",
       "    }\n",
       "\n",
       "    .dataframe thead th {\n",
       "        text-align: left;\n",
       "    }\n",
       "\n",
       "    .dataframe tbody tr th {\n",
       "        vertical-align: top;\n",
       "    }\n",
       "</style>\n",
       "<table border=\"1\" class=\"dataframe\">\n",
       "  <thead>\n",
       "    <tr style=\"text-align: right;\">\n",
       "      <th></th>\n",
       "      <th>parcelid</th>\n",
       "      <th>logerror</th>\n",
       "      <th>transactiondate</th>\n",
       "      <th>subdate</th>\n",
       "    </tr>\n",
       "  </thead>\n",
       "  <tbody>\n",
       "    <tr>\n",
       "      <th>0</th>\n",
       "      <td>12255126</td>\n",
       "      <td>-0.010475</td>\n",
       "      <td>1/4/2017</td>\n",
       "      <td>201704</td>\n",
       "    </tr>\n",
       "    <tr>\n",
       "      <th>1</th>\n",
       "      <td>11699092</td>\n",
       "      <td>-0.135031</td>\n",
       "      <td>1/4/2017</td>\n",
       "      <td>201704</td>\n",
       "    </tr>\n",
       "    <tr>\n",
       "      <th>2</th>\n",
       "      <td>11135506</td>\n",
       "      <td>0.065301</td>\n",
       "      <td>1/4/2017</td>\n",
       "      <td>201704</td>\n",
       "    </tr>\n",
       "    <tr>\n",
       "      <th>3</th>\n",
       "      <td>11045924</td>\n",
       "      <td>0.004267</td>\n",
       "      <td>1/4/2017</td>\n",
       "      <td>201704</td>\n",
       "    </tr>\n",
       "    <tr>\n",
       "      <th>4</th>\n",
       "      <td>17149086</td>\n",
       "      <td>0.075498</td>\n",
       "      <td>1/4/2017</td>\n",
       "      <td>201704</td>\n",
       "    </tr>\n",
       "  </tbody>\n",
       "</table>\n",
       "</div>"
      ],
      "text/plain": [
       "   parcelid  logerror transactiondate  subdate\n",
       "0  12255126 -0.010475        1/4/2017   201704\n",
       "1  11699092 -0.135031        1/4/2017   201704\n",
       "2  11135506  0.065301        1/4/2017   201704\n",
       "3  11045924  0.004267        1/4/2017   201704\n",
       "4  17149086  0.075498        1/4/2017   201704"
      ]
     },
     "execution_count": 26,
     "metadata": {},
     "output_type": "execute_result"
    }
   ],
   "source": [
    "test.head()"
   ]
  },
  {
   "cell_type": "code",
   "execution_count": null,
   "metadata": {
    "collapsed": true
   },
   "outputs": [],
   "source": []
  }
 ],
 "metadata": {
  "kernelspec": {
   "display_name": "Python 3",
   "language": "python",
   "name": "python3"
  },
  "language_info": {
   "codemirror_mode": {
    "name": "ipython",
    "version": 3
   },
   "file_extension": ".py",
   "mimetype": "text/x-python",
   "name": "python",
   "nbconvert_exporter": "python",
   "pygments_lexer": "ipython3",
   "version": "3.6.2"
  }
 },
 "nbformat": 4,
 "nbformat_minor": 2
}
